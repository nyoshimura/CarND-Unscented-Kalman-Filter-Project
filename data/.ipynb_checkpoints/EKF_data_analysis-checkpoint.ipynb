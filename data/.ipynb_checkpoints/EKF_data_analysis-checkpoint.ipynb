{
 "cells": [
  {
   "cell_type": "code",
   "execution_count": 55,
   "metadata": {},
   "outputs": [],
   "source": [
    "import pandas as pd\n",
    "import numpy as np\n",
    "import matplotlib.pyplot as plt\n",
    "%matplotlib inline"
   ]
  },
  {
   "cell_type": "code",
   "execution_count": 56,
   "metadata": {
    "scrolled": true
   },
   "outputs": [
    {
     "name": "stderr",
     "output_type": "stream",
     "text": [
      "/home/nobuto/miniconda3/envs/carnd-term1/lib/python3.5/site-packages/ipykernel_launcher.py:7: SettingWithCopyWarning: \n",
      "A value is trying to be set on a copy of a slice from a DataFrame.\n",
      "Try using .loc[row_indexer,col_indexer] = value instead\n",
      "\n",
      "See the caveats in the documentation: http://pandas.pydata.org/pandas-docs/stable/indexing.html#indexing-view-versus-copy\n",
      "  import sys\n"
     ]
    },
    {
     "data": {
      "text/html": [
       "<div>\n",
       "<style>\n",
       "    .dataframe thead tr:only-child th {\n",
       "        text-align: right;\n",
       "    }\n",
       "\n",
       "    .dataframe thead th {\n",
       "        text-align: left;\n",
       "    }\n",
       "\n",
       "    .dataframe tbody tr th {\n",
       "        vertical-align: top;\n",
       "    }\n",
       "</style>\n",
       "<table border=\"1\" class=\"dataframe\">\n",
       "  <thead>\n",
       "    <tr style=\"text-align: right;\">\n",
       "      <th></th>\n",
       "      <th>type</th>\n",
       "      <th>x</th>\n",
       "      <th>y</th>\n",
       "      <th>time</th>\n",
       "      <th>x_true</th>\n",
       "      <th>y_true</th>\n",
       "      <th>vx_true</th>\n",
       "      <th>vy_true</th>\n",
       "      <th>yaw_true</th>\n",
       "      <th>yawrate_true</th>\n",
       "      <th>None</th>\n",
       "    </tr>\n",
       "  </thead>\n",
       "  <tbody>\n",
       "    <tr>\n",
       "      <th>0</th>\n",
       "      <td>L</td>\n",
       "      <td>0.312243</td>\n",
       "      <td>0.580340</td>\n",
       "      <td>NaN</td>\n",
       "      <td>0.600000</td>\n",
       "      <td>0.600000</td>\n",
       "      <td>5.199937</td>\n",
       "      <td>0.000000</td>\n",
       "      <td>0.000000</td>\n",
       "      <td>0.006911</td>\n",
       "      <td>NaN</td>\n",
       "    </tr>\n",
       "    <tr>\n",
       "      <th>2</th>\n",
       "      <td>L</td>\n",
       "      <td>1.173848</td>\n",
       "      <td>0.481073</td>\n",
       "      <td>100000.0</td>\n",
       "      <td>1.119984</td>\n",
       "      <td>0.600225</td>\n",
       "      <td>5.199429</td>\n",
       "      <td>0.005390</td>\n",
       "      <td>0.001037</td>\n",
       "      <td>0.020730</td>\n",
       "      <td>NaN</td>\n",
       "    </tr>\n",
       "    <tr>\n",
       "      <th>4</th>\n",
       "      <td>L</td>\n",
       "      <td>1.650626</td>\n",
       "      <td>0.624690</td>\n",
       "      <td>100000.0</td>\n",
       "      <td>1.639904</td>\n",
       "      <td>0.601347</td>\n",
       "      <td>5.198392</td>\n",
       "      <td>0.017960</td>\n",
       "      <td>0.003455</td>\n",
       "      <td>0.034535</td>\n",
       "      <td>NaN</td>\n",
       "    </tr>\n",
       "    <tr>\n",
       "      <th>6</th>\n",
       "      <td>L</td>\n",
       "      <td>2.188824</td>\n",
       "      <td>0.648739</td>\n",
       "      <td>100000.0</td>\n",
       "      <td>2.159704</td>\n",
       "      <td>0.604085</td>\n",
       "      <td>5.196776</td>\n",
       "      <td>0.037693</td>\n",
       "      <td>0.007253</td>\n",
       "      <td>0.048318</td>\n",
       "      <td>NaN</td>\n",
       "    </tr>\n",
       "    <tr>\n",
       "      <th>8</th>\n",
       "      <td>L</td>\n",
       "      <td>2.655256</td>\n",
       "      <td>0.665980</td>\n",
       "      <td>100000.0</td>\n",
       "      <td>2.679323</td>\n",
       "      <td>0.609155</td>\n",
       "      <td>5.194504</td>\n",
       "      <td>0.064565</td>\n",
       "      <td>0.012429</td>\n",
       "      <td>0.062071</td>\n",
       "      <td>NaN</td>\n",
       "    </tr>\n",
       "  </tbody>\n",
       "</table>\n",
       "</div>"
      ],
      "text/plain": [
       "  type         x         y      time    x_true    y_true   vx_true   vy_true  \\\n",
       "0    L  0.312243  0.580340       NaN  0.600000  0.600000  5.199937  0.000000   \n",
       "2    L  1.173848  0.481073  100000.0  1.119984  0.600225  5.199429  0.005390   \n",
       "4    L  1.650626  0.624690  100000.0  1.639904  0.601347  5.198392  0.017960   \n",
       "6    L  2.188824  0.648739  100000.0  2.159704  0.604085  5.196776  0.037693   \n",
       "8    L  2.655256  0.665980  100000.0  2.679323  0.609155  5.194504  0.064565   \n",
       "\n",
       "   yaw_true  yawrate_true  None  \n",
       "0  0.000000      0.006911   NaN  \n",
       "2  0.001037      0.020730   NaN  \n",
       "4  0.003455      0.034535   NaN  \n",
       "6  0.007253      0.048318   NaN  \n",
       "8  0.012429      0.062071   NaN  "
      ]
     },
     "execution_count": 56,
     "metadata": {},
     "output_type": "execute_result"
    }
   ],
   "source": [
    "col_names = ['{0:02d}'.format(i) for i in range(11)]\n",
    "df = pd.read_table('./obj_pose-laser-radar-synthetic-input.txt', names=col_names)\n",
    "\n",
    "l_col = ['type', 'x', 'y', 'time', 'x_true', 'y_true', 'vx_true', 'vy_true', 'yaw_true', 'yawrate_true', 'None']\n",
    "df_laser = df[df['00']=='L']\n",
    "df_laser.columns = l_col\n",
    "df_laser['time'] = df_laser['time'].diff()\n",
    "\n",
    "df_laser.head()"
   ]
  },
  {
   "cell_type": "code",
   "execution_count": 46,
   "metadata": {
    "scrolled": true
   },
   "outputs": [
    {
     "name": "stdout",
     "output_type": "stream",
     "text": [
      "max:  0.100511232077\n",
      "std:  0.0713646736672\n"
     ]
    },
    {
     "data": {
      "text/plain": [
       "<matplotlib.axes._subplots.AxesSubplot at 0x7f28447a7f98>"
      ]
     },
     "execution_count": 46,
     "metadata": {},
     "output_type": "execute_result"
    },
    {
     "data": {
      "image/png": "[encoded data removed]",
      "text/plain": [
       "<matplotlib.figure.Figure at 0x7f28447bb240>"
      ]
     },
     "metadata": {},
     "output_type": "display_data"
    }
   ],
   "source": [
    "df_v = (df_laser['vx_true']*df_laser['vx_true'] + df_laser['vy_true']*df_laser['vy_true']).apply(np.sqrt)\n",
    "df_ac = df_v.diff()*10\n",
    "print('max: ', df_ac.max())\n",
    "print('std: ', df_ac.std())\n",
    "df_ac.hist(grid=False, figsize=(16,4), bins=60, edgecolor='k')"
   ]
  },
  {
   "cell_type": "code",
   "execution_count": null,
   "metadata": {
    "collapsed": true
   },
   "outputs": [],
   "source": []
  }
 ],
 "metadata": {
  "kernelspec": {
   "display_name": "Python 3",
   "language": "python",
   "name": "python3"
  },
  "language_info": {
   "codemirror_mode": {
    "name": "ipython",
    "version": 3
   },
   "file_extension": ".py",
   "mimetype": "text/x-python",
   "name": "python",
   "nbconvert_exporter": "python",
   "pygments_lexer": "ipython3",
   "version": "3.5.2"
  },
  "widgets": {
   "state": {},
   "version": "1.1.2"
  }
 },
 "nbformat": 4,
 "nbformat_minor": 2
}
